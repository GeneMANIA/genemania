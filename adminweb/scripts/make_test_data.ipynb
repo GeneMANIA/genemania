{
 "metadata": {
  "name": "",
  "signature": "sha256:96ddf3e96504f12d3f7dd602ddc26360dbda6d65ebbc849fddd348e303d43f17"
 },
 "nbformat": 3,
 "nbformat_minor": 0,
 "worksheets": [
  {
   "cells": [
    {
     "cell_type": "markdown",
     "metadata": {},
     "source": [
      "Create some data files to be run through testcases.\n",
      "\n",
      "need src/test/resources/Org_interpro.txt|Org_names.txt|Org_network.txt\n",
      "where Org -> organism_code. \n",
      "\n",
      "Will use Big Foot https://translate.google.com/#en/la/big%20foot\n",
      "which is Magnum peditum, so the code is Mp\n",
      "\n"
     ]
    },
    {
     "cell_type": "code",
     "collapsed": false,
     "input": [
      "import pandas as pd\n",
      "import numpy as np"
     ],
     "language": "python",
     "metadata": {},
     "outputs": [],
     "prompt_number": 1
    },
    {
     "cell_type": "code",
     "collapsed": false,
     "input": [
      "symbol_sources = ['Name', 'Accession', 'Synonym']\n",
      "organism_name = 'Bigfoot'\n",
      "organism_code = 'Mp'\n",
      "\n",
      "num_ids = 20"
     ],
     "language": "python",
     "metadata": {},
     "outputs": [],
     "prompt_number": 2
    },
    {
     "cell_type": "code",
     "collapsed": false,
     "input": [
      "# start enumerating ids from 1\n",
      "gmids = pd.DataFrame(range(1,num_ids+1), columns=['ID'])"
     ],
     "language": "python",
     "metadata": {},
     "outputs": [],
     "prompt_number": 3
    },
    {
     "cell_type": "code",
     "collapsed": false,
     "input": [
      "gmids['GMID'] = organism_code + ':' + gmids['ID'].map(str)\n",
      "print len(gmids)\n",
      "gmids.head(3)"
     ],
     "language": "python",
     "metadata": {},
     "outputs": [
      {
       "output_type": "stream",
       "stream": "stdout",
       "text": [
        "20\n"
       ]
      },
      {
       "html": [
        "<div style=\"max-height:1000px;max-width:1500px;overflow:auto;\">\n",
        "<table border=\"1\" class=\"dataframe\">\n",
        "  <thead>\n",
        "    <tr style=\"text-align: right;\">\n",
        "      <th></th>\n",
        "      <th>ID</th>\n",
        "      <th>GMID</th>\n",
        "    </tr>\n",
        "  </thead>\n",
        "  <tbody>\n",
        "    <tr>\n",
        "      <th>0</th>\n",
        "      <td> 1</td>\n",
        "      <td> Mp:1</td>\n",
        "    </tr>\n",
        "    <tr>\n",
        "      <th>1</th>\n",
        "      <td> 2</td>\n",
        "      <td> Mp:2</td>\n",
        "    </tr>\n",
        "    <tr>\n",
        "      <th>2</th>\n",
        "      <td> 3</td>\n",
        "      <td> Mp:3</td>\n",
        "    </tr>\n",
        "  </tbody>\n",
        "</table>\n",
        "<p>3 rows \u00d7 2 columns</p>\n",
        "</div>"
       ],
       "metadata": {},
       "output_type": "pyout",
       "prompt_number": 4,
       "text": [
        "   ID  GMID\n",
        "0   1  Mp:1\n",
        "1   2  Mp:2\n",
        "2   3  Mp:3\n",
        "\n",
        "[3 rows x 2 columns]"
       ]
      }
     ],
     "prompt_number": 4
    },
    {
     "cell_type": "code",
     "collapsed": false,
     "input": [
      "# create symbols for each source\n",
      "all = []\n",
      "for source in symbol_sources:\n",
      "    symbols = gmids.copy()\n",
      "    symbols['Symbol'] = source + '_' + symbols['ID'].map(str)\n",
      "    symbols['Source'] = source\n",
      "    \n",
      "    all.append(symbols)\n",
      "\n",
      "\n",
      "identifiers = pd.concat(all)\n",
      "identifiers.drop('ID', axis=1, inplace=True)\n",
      "\n"
     ],
     "language": "python",
     "metadata": {},
     "outputs": [],
     "prompt_number": 5
    },
    {
     "cell_type": "code",
     "collapsed": false,
     "input": [
      "print len(identifiers)\n",
      "identifiers.head(3)"
     ],
     "language": "python",
     "metadata": {},
     "outputs": [
      {
       "output_type": "stream",
       "stream": "stdout",
       "text": [
        "60\n"
       ]
      },
      {
       "html": [
        "<div style=\"max-height:1000px;max-width:1500px;overflow:auto;\">\n",
        "<table border=\"1\" class=\"dataframe\">\n",
        "  <thead>\n",
        "    <tr style=\"text-align: right;\">\n",
        "      <th></th>\n",
        "      <th>GMID</th>\n",
        "      <th>Symbol</th>\n",
        "      <th>Source</th>\n",
        "    </tr>\n",
        "  </thead>\n",
        "  <tbody>\n",
        "    <tr>\n",
        "      <th>0</th>\n",
        "      <td> Mp:1</td>\n",
        "      <td> Name_1</td>\n",
        "      <td> Name</td>\n",
        "    </tr>\n",
        "    <tr>\n",
        "      <th>1</th>\n",
        "      <td> Mp:2</td>\n",
        "      <td> Name_2</td>\n",
        "      <td> Name</td>\n",
        "    </tr>\n",
        "    <tr>\n",
        "      <th>2</th>\n",
        "      <td> Mp:3</td>\n",
        "      <td> Name_3</td>\n",
        "      <td> Name</td>\n",
        "    </tr>\n",
        "  </tbody>\n",
        "</table>\n",
        "<p>3 rows \u00d7 3 columns</p>\n",
        "</div>"
       ],
       "metadata": {},
       "output_type": "pyout",
       "prompt_number": 6,
       "text": [
        "   GMID  Symbol Source\n",
        "0  Mp:1  Name_1   Name\n",
        "1  Mp:2  Name_2   Name\n",
        "2  Mp:3  Name_3   Name\n",
        "\n",
        "[3 rows x 3 columns]"
       ]
      }
     ],
     "prompt_number": 6
    },
    {
     "cell_type": "markdown",
     "metadata": {},
     "source": [
      "take a random sample of ids to create a network"
     ]
    },
    {
     "cell_type": "code",
     "collapsed": false,
     "input": [
      "num_network_interactions = 8\n",
      "np.random.seed(20140508) # reproducibility\n",
      "\n",
      "gene1_idx = np.random.choice(gmids.index.values, num_network_interactions, replace=False)\n",
      "gene1 = gmids.ix[gene1_idx][['GMID']]\n",
      "gene1.reset_index(drop=True, inplace=True)\n",
      "\n",
      "\n",
      "gene2_idx = np.random.choice(gmids.index.values, num_network_interactions, replace=False)\n",
      "gene2 = gmids.ix[gene2_idx][['GMID']]\n",
      "gene2.reset_index(drop=True, inplace=True)\n"
     ],
     "language": "python",
     "metadata": {},
     "outputs": [],
     "prompt_number": 7
    },
    {
     "cell_type": "code",
     "collapsed": false,
     "input": [
      "gene1.head(3)"
     ],
     "language": "python",
     "metadata": {},
     "outputs": [
      {
       "html": [
        "<div style=\"max-height:1000px;max-width:1500px;overflow:auto;\">\n",
        "<table border=\"1\" class=\"dataframe\">\n",
        "  <thead>\n",
        "    <tr style=\"text-align: right;\">\n",
        "      <th></th>\n",
        "      <th>GMID</th>\n",
        "    </tr>\n",
        "  </thead>\n",
        "  <tbody>\n",
        "    <tr>\n",
        "      <th>0</th>\n",
        "      <td> Mp:15</td>\n",
        "    </tr>\n",
        "    <tr>\n",
        "      <th>1</th>\n",
        "      <td>  Mp:1</td>\n",
        "    </tr>\n",
        "    <tr>\n",
        "      <th>2</th>\n",
        "      <td> Mp:16</td>\n",
        "    </tr>\n",
        "  </tbody>\n",
        "</table>\n",
        "<p>3 rows \u00d7 1 columns</p>\n",
        "</div>"
       ],
       "metadata": {},
       "output_type": "pyout",
       "prompt_number": 8,
       "text": [
        "    GMID\n",
        "0  Mp:15\n",
        "1   Mp:1\n",
        "2  Mp:16\n",
        "\n",
        "[3 rows x 1 columns]"
       ]
      }
     ],
     "prompt_number": 8
    },
    {
     "cell_type": "code",
     "collapsed": false,
     "input": [
      "just_names = identifiers[identifiers['Source'] == 'Name']\n",
      "print len(just_names)\n",
      "just_names.head(3)"
     ],
     "language": "python",
     "metadata": {},
     "outputs": [
      {
       "output_type": "stream",
       "stream": "stdout",
       "text": [
        "20\n"
       ]
      },
      {
       "html": [
        "<div style=\"max-height:1000px;max-width:1500px;overflow:auto;\">\n",
        "<table border=\"1\" class=\"dataframe\">\n",
        "  <thead>\n",
        "    <tr style=\"text-align: right;\">\n",
        "      <th></th>\n",
        "      <th>GMID</th>\n",
        "      <th>Symbol</th>\n",
        "      <th>Source</th>\n",
        "    </tr>\n",
        "  </thead>\n",
        "  <tbody>\n",
        "    <tr>\n",
        "      <th>0</th>\n",
        "      <td> Mp:1</td>\n",
        "      <td> Name_1</td>\n",
        "      <td> Name</td>\n",
        "    </tr>\n",
        "    <tr>\n",
        "      <th>1</th>\n",
        "      <td> Mp:2</td>\n",
        "      <td> Name_2</td>\n",
        "      <td> Name</td>\n",
        "    </tr>\n",
        "    <tr>\n",
        "      <th>2</th>\n",
        "      <td> Mp:3</td>\n",
        "      <td> Name_3</td>\n",
        "      <td> Name</td>\n",
        "    </tr>\n",
        "  </tbody>\n",
        "</table>\n",
        "<p>3 rows \u00d7 3 columns</p>\n",
        "</div>"
       ],
       "metadata": {},
       "output_type": "pyout",
       "prompt_number": 9,
       "text": [
        "   GMID  Symbol Source\n",
        "0  Mp:1  Name_1   Name\n",
        "1  Mp:2  Name_2   Name\n",
        "2  Mp:3  Name_3   Name\n",
        "\n",
        "[3 rows x 3 columns]"
       ]
      }
     ],
     "prompt_number": 9
    },
    {
     "cell_type": "code",
     "collapsed": false,
     "input": [
      "gene1 = pd.merge(gene1, just_names, on='GMID', how='inner')\n",
      "gene1 = gene1[['Symbol']]\n",
      "\n",
      "gene2 = pd.merge(gene2, just_names, on='GMID', how='inner')\n",
      "gene2 = gene2[['Symbol']]\n"
     ],
     "language": "python",
     "metadata": {},
     "outputs": [],
     "prompt_number": 10
    },
    {
     "cell_type": "code",
     "collapsed": false,
     "input": [
      "gene1.head(3)"
     ],
     "language": "python",
     "metadata": {},
     "outputs": [
      {
       "html": [
        "<div style=\"max-height:1000px;max-width:1500px;overflow:auto;\">\n",
        "<table border=\"1\" class=\"dataframe\">\n",
        "  <thead>\n",
        "    <tr style=\"text-align: right;\">\n",
        "      <th></th>\n",
        "      <th>Symbol</th>\n",
        "    </tr>\n",
        "  </thead>\n",
        "  <tbody>\n",
        "    <tr>\n",
        "      <th>0</th>\n",
        "      <td> Name_15</td>\n",
        "    </tr>\n",
        "    <tr>\n",
        "      <th>1</th>\n",
        "      <td>  Name_1</td>\n",
        "    </tr>\n",
        "    <tr>\n",
        "      <th>2</th>\n",
        "      <td> Name_16</td>\n",
        "    </tr>\n",
        "  </tbody>\n",
        "</table>\n",
        "<p>3 rows \u00d7 1 columns</p>\n",
        "</div>"
       ],
       "metadata": {},
       "output_type": "pyout",
       "prompt_number": 11,
       "text": [
        "    Symbol\n",
        "0  Name_15\n",
        "1   Name_1\n",
        "2  Name_16\n",
        "\n",
        "[3 rows x 1 columns]"
       ]
      }
     ],
     "prompt_number": 11
    },
    {
     "cell_type": "code",
     "collapsed": false,
     "input": [
      "network = gene1.join(gene2, lsuffix='_gene1', rsuffix='_gene2')\n",
      "network.head(5)"
     ],
     "language": "python",
     "metadata": {},
     "outputs": [
      {
       "html": [
        "<div style=\"max-height:1000px;max-width:1500px;overflow:auto;\">\n",
        "<table border=\"1\" class=\"dataframe\">\n",
        "  <thead>\n",
        "    <tr style=\"text-align: right;\">\n",
        "      <th></th>\n",
        "      <th>Symbol_gene1</th>\n",
        "      <th>Symbol_gene2</th>\n",
        "    </tr>\n",
        "  </thead>\n",
        "  <tbody>\n",
        "    <tr>\n",
        "      <th>0</th>\n",
        "      <td> Name_15</td>\n",
        "      <td>  Name_3</td>\n",
        "    </tr>\n",
        "    <tr>\n",
        "      <th>1</th>\n",
        "      <td>  Name_1</td>\n",
        "      <td> Name_18</td>\n",
        "    </tr>\n",
        "    <tr>\n",
        "      <th>2</th>\n",
        "      <td> Name_16</td>\n",
        "      <td>  Name_6</td>\n",
        "    </tr>\n",
        "    <tr>\n",
        "      <th>3</th>\n",
        "      <td> Name_12</td>\n",
        "      <td> Name_19</td>\n",
        "    </tr>\n",
        "    <tr>\n",
        "      <th>4</th>\n",
        "      <td>  Name_9</td>\n",
        "      <td> Name_14</td>\n",
        "    </tr>\n",
        "  </tbody>\n",
        "</table>\n",
        "<p>5 rows \u00d7 2 columns</p>\n",
        "</div>"
       ],
       "metadata": {},
       "output_type": "pyout",
       "prompt_number": 12,
       "text": [
        "  Symbol_gene1 Symbol_gene2\n",
        "0      Name_15       Name_3\n",
        "1       Name_1      Name_18\n",
        "2      Name_16       Name_6\n",
        "3      Name_12      Name_19\n",
        "4       Name_9      Name_14\n",
        "\n",
        "[5 rows x 2 columns]"
       ]
      }
     ],
     "prompt_number": 12
    },
    {
     "cell_type": "code",
     "collapsed": false,
     "input": [
      "network['weight'] = np.random.uniform(low=0.0, high=1.0, size=len(network))"
     ],
     "language": "python",
     "metadata": {},
     "outputs": [],
     "prompt_number": 13
    },
    {
     "cell_type": "code",
     "collapsed": false,
     "input": [
      "network.head(3)"
     ],
     "language": "python",
     "metadata": {},
     "outputs": [
      {
       "html": [
        "<div style=\"max-height:1000px;max-width:1500px;overflow:auto;\">\n",
        "<table border=\"1\" class=\"dataframe\">\n",
        "  <thead>\n",
        "    <tr style=\"text-align: right;\">\n",
        "      <th></th>\n",
        "      <th>Symbol_gene1</th>\n",
        "      <th>Symbol_gene2</th>\n",
        "      <th>weight</th>\n",
        "    </tr>\n",
        "  </thead>\n",
        "  <tbody>\n",
        "    <tr>\n",
        "      <th>0</th>\n",
        "      <td> Name_15</td>\n",
        "      <td>  Name_3</td>\n",
        "      <td> 0.282468</td>\n",
        "    </tr>\n",
        "    <tr>\n",
        "      <th>1</th>\n",
        "      <td>  Name_1</td>\n",
        "      <td> Name_18</td>\n",
        "      <td> 0.925370</td>\n",
        "    </tr>\n",
        "    <tr>\n",
        "      <th>2</th>\n",
        "      <td> Name_16</td>\n",
        "      <td>  Name_6</td>\n",
        "      <td> 0.795029</td>\n",
        "    </tr>\n",
        "  </tbody>\n",
        "</table>\n",
        "<p>3 rows \u00d7 3 columns</p>\n",
        "</div>"
       ],
       "metadata": {},
       "output_type": "pyout",
       "prompt_number": 14,
       "text": [
        "  Symbol_gene1 Symbol_gene2    weight\n",
        "0      Name_15       Name_3  0.282468\n",
        "1       Name_1      Name_18  0.925370\n",
        "2      Name_16       Name_6  0.795029\n",
        "\n",
        "[3 rows x 3 columns]"
       ]
      }
     ],
     "prompt_number": 14
    },
    {
     "cell_type": "code",
     "collapsed": false,
     "input": [
      "num_domains = 10\n",
      "domains = pd.DataFrame(range(1,num_domains+1), columns=['ID'])\n",
      "domains['DOMAIN_ID'] = 'domain' + domains['ID'].map(str)\n",
      "domains.head(3)\n"
     ],
     "language": "python",
     "metadata": {},
     "outputs": [
      {
       "html": [
        "<div style=\"max-height:1000px;max-width:1500px;overflow:auto;\">\n",
        "<table border=\"1\" class=\"dataframe\">\n",
        "  <thead>\n",
        "    <tr style=\"text-align: right;\">\n",
        "      <th></th>\n",
        "      <th>ID</th>\n",
        "      <th>DOMAIN_ID</th>\n",
        "    </tr>\n",
        "  </thead>\n",
        "  <tbody>\n",
        "    <tr>\n",
        "      <th>0</th>\n",
        "      <td> 1</td>\n",
        "      <td> domain1</td>\n",
        "    </tr>\n",
        "    <tr>\n",
        "      <th>1</th>\n",
        "      <td> 2</td>\n",
        "      <td> domain2</td>\n",
        "    </tr>\n",
        "    <tr>\n",
        "      <th>2</th>\n",
        "      <td> 3</td>\n",
        "      <td> domain3</td>\n",
        "    </tr>\n",
        "  </tbody>\n",
        "</table>\n",
        "<p>3 rows \u00d7 2 columns</p>\n",
        "</div>"
       ],
       "metadata": {},
       "output_type": "pyout",
       "prompt_number": 15,
       "text": [
        "   ID DOMAIN_ID\n",
        "0   1   domain1\n",
        "1   2   domain2\n",
        "2   3   domain3\n",
        "\n",
        "[3 rows x 2 columns]"
       ]
      }
     ],
     "prompt_number": 15
    },
    {
     "cell_type": "code",
     "collapsed": false,
     "input": [
      "lines = []\n",
      "for i in range(num_ids):\n",
      "    k = np.random.randint(1, num_domains, 1)\n",
      "    domain_idx = np.random.choice(domains.index.values, k, replace=False)\n",
      "    sample = domains.ix[domain_idx]['DOMAIN_ID']\n",
      "    \n",
      "    sample = sample.tolist()\n",
      "    \n",
      "    gene = just_names['Symbol'][i]\n",
      "    line = [gene] + sample\n",
      "    line = '\\t'.join(line)\n",
      "    lines.append(line)\n",
      "    "
     ],
     "language": "python",
     "metadata": {},
     "outputs": [],
     "prompt_number": 16
    },
    {
     "cell_type": "code",
     "collapsed": false,
     "input": [
      "# write identifiers\n",
      "identifiers.to_csv(organism_code + '_names.txt', sep='\\t', header=False, index=False)\n",
      "\n",
      "# write netork\n",
      "network.to_csv(organism_code + '_network.txt', sep='\\t', header=False, index=False)\n",
      "\n",
      "# write domains\n",
      "with open(organism_code + '_domains.txt', 'w') as f:\n",
      "    for line in lines:\n",
      "        f.write(line +'\\n')\n",
      "        \n",
      "!ls $organism_code*.txt"
     ],
     "language": "python",
     "metadata": {},
     "outputs": [
      {
       "output_type": "stream",
       "stream": "stdout",
       "text": [
        "Mp_domains.txt  Mp_interpro.txt Mp_names.txt    Mp_network.txt\r\n"
       ]
      }
     ],
     "prompt_number": 17
    }
   ],
   "metadata": {}
  }
 ]
}